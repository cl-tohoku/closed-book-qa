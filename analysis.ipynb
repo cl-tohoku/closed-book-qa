{
 "cells": [
  {
   "cell_type": "code",
   "execution_count": 1,
   "metadata": {},
   "outputs": [],
   "source": [
    "import json\n",
    "from collections import Counter, defaultdict"
   ]
  },
  {
   "cell_type": "code",
   "execution_count": 2,
   "metadata": {},
   "outputs": [],
   "source": [
    "import numpy as np\n",
    "import pandas as pd\n",
    "import plotly.express as px\n",
    "import matplotlib.pyplot as plt\n",
    "from matplotlib.ticker import ScalarFormatter"
   ]
  },
  {
   "cell_type": "code",
   "execution_count": 3,
   "metadata": {},
   "outputs": [],
   "source": [
    "plt.rcParams[\"font.size\"] = 14"
   ]
  },
  {
   "cell_type": "code",
   "execution_count": 4,
   "metadata": {},
   "outputs": [],
   "source": [
    "TRAIN_PATH = \"work/dataset/train_question.json\"\n",
    "DEV_PATH = \"work/dataset/dev_question.json\"\n",
    "TEST_PATH = \"work/dataset/test_question.json\""
   ]
  },
  {
   "cell_type": "code",
   "execution_count": 5,
   "metadata": {},
   "outputs": [],
   "source": [
    "train = pd.read_json(open(TRAIN_PATH).read(), orient='records', lines=True)"
   ]
  },
  {
   "cell_type": "code",
   "execution_count": 6,
   "metadata": {},
   "outputs": [],
   "source": [
    "dev = pd.read_json(open(DEV_PATH).read(), orient='records', lines=True)"
   ]
  },
  {
   "cell_type": "code",
   "execution_count": 7,
   "metadata": {},
   "outputs": [],
   "source": [
    "test = pd.read_json(open(TEST_PATH).read(), orient='records', lines=True)"
   ]
  },
  {
   "cell_type": "code",
   "execution_count": 8,
   "metadata": {},
   "outputs": [
    {
     "data": {
      "text/html": [
       "<div>\n",
       "<style scoped>\n",
       "    .dataframe tbody tr th:only-of-type {\n",
       "        vertical-align: middle;\n",
       "    }\n",
       "\n",
       "    .dataframe tbody tr th {\n",
       "        vertical-align: top;\n",
       "    }\n",
       "\n",
       "    .dataframe thead th {\n",
       "        text-align: right;\n",
       "    }\n",
       "</style>\n",
       "<table border=\"1\" class=\"dataframe\">\n",
       "  <thead>\n",
       "    <tr style=\"text-align: right;\">\n",
       "      <th></th>\n",
       "      <th>qanta_id</th>\n",
       "      <th>text</th>\n",
       "      <th>entity</th>\n",
       "      <th>text_unit</th>\n",
       "    </tr>\n",
       "  </thead>\n",
       "  <tbody>\n",
       "    <tr>\n",
       "      <th>0</th>\n",
       "      <td>0</td>\n",
       "      <td>After this character relates a story about how...</td>\n",
       "      <td>Queequeg</td>\n",
       "      <td>question</td>\n",
       "    </tr>\n",
       "    <tr>\n",
       "      <th>1</th>\n",
       "      <td>1</td>\n",
       "      <td>The oldest document written in this language i...</td>\n",
       "      <td>Romanian_language</td>\n",
       "      <td>question</td>\n",
       "    </tr>\n",
       "    <tr>\n",
       "      <th>2</th>\n",
       "      <td>2</td>\n",
       "      <td>This state's largest city endured an 1855 Rum ...</td>\n",
       "      <td>Maine</td>\n",
       "      <td>question</td>\n",
       "    </tr>\n",
       "    <tr>\n",
       "      <th>3</th>\n",
       "      <td>3</td>\n",
       "      <td>In one work, this man provides definitions for...</td>\n",
       "      <td>Charles_Sanders_Peirce</td>\n",
       "      <td>question</td>\n",
       "    </tr>\n",
       "    <tr>\n",
       "      <th>4</th>\n",
       "      <td>4</td>\n",
       "      <td>One family in this work flees France after res...</td>\n",
       "      <td>Frankenstein</td>\n",
       "      <td>question</td>\n",
       "    </tr>\n",
       "  </tbody>\n",
       "</table>\n",
       "</div>"
      ],
      "text/plain": [
       "   qanta_id                                               text  \\\n",
       "0         0  After this character relates a story about how...   \n",
       "1         1  The oldest document written in this language i...   \n",
       "2         2  This state's largest city endured an 1855 Rum ...   \n",
       "3         3  In one work, this man provides definitions for...   \n",
       "4         4  One family in this work flees France after res...   \n",
       "\n",
       "                   entity text_unit  \n",
       "0                Queequeg  question  \n",
       "1       Romanian_language  question  \n",
       "2                   Maine  question  \n",
       "3  Charles_Sanders_Peirce  question  \n",
       "4            Frankenstein  question  "
      ]
     },
     "execution_count": 8,
     "metadata": {},
     "output_type": "execute_result"
    }
   ],
   "source": [
    "train.head()"
   ]
  },
  {
   "cell_type": "code",
   "execution_count": 9,
   "metadata": {},
   "outputs": [],
   "source": [
    "train_counts = train['entity'].value_counts()"
   ]
  },
  {
   "cell_type": "code",
   "execution_count": 10,
   "metadata": {},
   "outputs": [
    {
     "data": {
      "text/plain": [
       "Japan                           99\n",
       "China                           97\n",
       "Australia                       97\n",
       "Spain                           89\n",
       "Brazil                          87\n",
       "                                ..\n",
       "Spherical_coordinate_system      1\n",
       "Shraddhadeva_Manu                1\n",
       "Electron_degeneracy_pressure     1\n",
       "SpaceX                           1\n",
       "Mass_wasting                     1\n",
       "Name: entity, Length: 25969, dtype: int64"
      ]
     },
     "execution_count": 10,
     "metadata": {},
     "output_type": "execute_result"
    }
   ],
   "source": [
    "train_counts"
   ]
  },
  {
   "cell_type": "code",
   "execution_count": 11,
   "metadata": {},
   "outputs": [
    {
     "data": {
      "image/png": "[encoded data removed]",
      "text/plain": [
       "<Figure size 432x288 with 1 Axes>"
      ]
     },
     "metadata": {
      "needs_background": "light"
     },
     "output_type": "display_data"
    }
   ],
   "source": [
    "plt.figure()\n",
    "ax = train_counts.plot.bar(width=100.0, rot=0)\n",
    "ax.set_xticks(np.arange(0,len(train_counts),5000))\n",
    "ax.set_xticklabels(np.arange(0,len(train_counts),5000))\n",
    "ax.grid(which='major', linewidth=0.5)\n",
    "ax.set_axisbelow(True)\n",
    "ax.set_xlabel('Entities (sorted in descending order of frequency in train data)')\n",
    "ax.set_ylabel('Frequency in train data')\n",
    "ax.set_xlim(-1000, len(train_counts)+1000)\n",
    "plt.savefig('images/train_freq.pdf', bbox_inches='tight')"
   ]
  },
  {
   "cell_type": "code",
   "execution_count": 12,
   "metadata": {},
   "outputs": [
    {
     "name": "stdout",
     "output_type": "stream",
     "text": [
      "648\n",
      "0.8421052631578947\n"
     ]
    }
   ],
   "source": [
    "num_unanswerable = 0\n",
    "for _, item in test.iterrows():\n",
    "    entity = item['entity']\n",
    "    if entity not in train_counts:\n",
    "        num_unanswerable += 1\n",
    "    \n",
    "print(num_unanswerable)\n",
    "print(1 - num_unanswerable / len(test)) "
   ]
  },
  {
   "cell_type": "code",
   "execution_count": 13,
   "metadata": {},
   "outputs": [],
   "source": [
    "QUIZ_PREDICTION_PATH = 'work/quiz/bert-base/prediction_test_question.json'\n",
    "WIKI_QUIZ_PREDICTION_PATH = 'work/wiki_quiz/bert-base/prediction_test_question.json'"
   ]
  },
  {
   "cell_type": "code",
   "execution_count": 14,
   "metadata": {},
   "outputs": [],
   "source": [
    "def make_accuracy_bins(fpath):\n",
    "    freq_accuracy_bins = defaultdict(list)\n",
    "    sid_accuracy_bins = defaultdict(list)\n",
    "    \n",
    "    with open(fpath) as f:\n",
    "        for line in f:\n",
    "            pred_data = json.loads(line)\n",
    "            pred_answer = pred_data['top1_entity']\n",
    "            correct_answer = pred_data['metadata']['entity']\n",
    "            sid = pred_data['metadata'].get('sentence_index')\n",
    "            \n",
    "            accuracy = int(pred_answer == correct_answer)\n",
    "\n",
    "            if correct_answer in train_counts:\n",
    "                freq = train_counts[correct_answer]\n",
    "            else:\n",
    "                freq = 0\n",
    "                \n",
    "            freq_label = '6+' if freq >= 6 else str(freq)\n",
    "            freq_accuracy_bins[freq_label].append(accuracy)\n",
    "            \n",
    "            if sid is not None:\n",
    "                sid += 1  # 0-origin -> 1-origin\n",
    "                sid_label = '7+' if sid >= 7 else str(sid)\n",
    "                sid_accuracy_bins[sid_label].append(accuracy)\n",
    "    \n",
    "    freq_mean_accuracies = defaultdict(float)\n",
    "    for label in ['0', '1', '2', '3', '4', '5', '6+']:\n",
    "        if label in freq_accuracy_bins:\n",
    "            accuracies = freq_accuracy_bins[label]\n",
    "            assert len(accuracies) > 0\n",
    "            mean_accuracy = sum(accuracies) / len(accuracies)\n",
    "            freq_mean_accuracies[label] = mean_accuracy\n",
    "    \n",
    "    sid_mean_accuracies = defaultdict(float)\n",
    "    for label in ['1', '2', '3', '4', '5', '6', '7+']:\n",
    "        if label in sid_accuracy_bins:\n",
    "            accuracies = sid_accuracy_bins[label]\n",
    "            assert len(accuracies) > 0\n",
    "            mean_accuracy = sum(accuracies) / len(accuracies)\n",
    "            sid_mean_accuracies[label] = mean_accuracy\n",
    "            \n",
    "    return freq_mean_accuracies, sid_mean_accuracies"
   ]
  },
  {
   "cell_type": "code",
   "execution_count": 15,
   "metadata": {},
   "outputs": [],
   "source": [
    "quiz_freq_accuracies, _ = make_accuracy_bins(QUIZ_PREDICTION_PATH)\n",
    "wiki_quiz_freq_accuracies, _ = make_accuracy_bins(WIKI_QUIZ_PREDICTION_PATH)"
   ]
  },
  {
   "cell_type": "code",
   "execution_count": 16,
   "metadata": {},
   "outputs": [],
   "source": [
    "freq_labels = ['1', '2', '3', '4', '5', '6+']\n",
    "xlnet_freq_accuracies_dict = {\n",
    "    'Qanta': [quiz_freq_accuracies[label] for label in freq_labels],\n",
    "    r'Wiki$\\rightarrow$Qanta': [wiki_quiz_freq_accuracies[label] for label in freq_labels]\n",
    "}\n",
    "freq_accuracies_df = pd.DataFrame(data=xlnet_freq_accuracies_dict, index=freq_labels)"
   ]
  },
  {
   "cell_type": "code",
   "execution_count": 17,
   "metadata": {},
   "outputs": [
    {
     "data": {
      "text/html": [
       "<div>\n",
       "<style scoped>\n",
       "    .dataframe tbody tr th:only-of-type {\n",
       "        vertical-align: middle;\n",
       "    }\n",
       "\n",
       "    .dataframe tbody tr th {\n",
       "        vertical-align: top;\n",
       "    }\n",
       "\n",
       "    .dataframe thead th {\n",
       "        text-align: right;\n",
       "    }\n",
       "</style>\n",
       "<table border=\"1\" class=\"dataframe\">\n",
       "  <thead>\n",
       "    <tr style=\"text-align: right;\">\n",
       "      <th></th>\n",
       "      <th>Qanta</th>\n",
       "      <th>Wiki$\\rightarrow$Qanta</th>\n",
       "    </tr>\n",
       "  </thead>\n",
       "  <tbody>\n",
       "    <tr>\n",
       "      <th>1</th>\n",
       "      <td>0.286501</td>\n",
       "      <td>0.468320</td>\n",
       "    </tr>\n",
       "    <tr>\n",
       "      <th>2</th>\n",
       "      <td>0.511029</td>\n",
       "      <td>0.661765</td>\n",
       "    </tr>\n",
       "    <tr>\n",
       "      <th>3</th>\n",
       "      <td>0.612150</td>\n",
       "      <td>0.714953</td>\n",
       "    </tr>\n",
       "    <tr>\n",
       "      <th>4</th>\n",
       "      <td>0.725275</td>\n",
       "      <td>0.774725</td>\n",
       "    </tr>\n",
       "    <tr>\n",
       "      <th>5</th>\n",
       "      <td>0.744681</td>\n",
       "      <td>0.773050</td>\n",
       "    </tr>\n",
       "    <tr>\n",
       "      <th>6+</th>\n",
       "      <td>0.867338</td>\n",
       "      <td>0.883975</td>\n",
       "    </tr>\n",
       "  </tbody>\n",
       "</table>\n",
       "</div>"
      ],
      "text/plain": [
       "       Qanta  Wiki$\\rightarrow$Qanta\n",
       "1   0.286501                0.468320\n",
       "2   0.511029                0.661765\n",
       "3   0.612150                0.714953\n",
       "4   0.725275                0.774725\n",
       "5   0.744681                0.773050\n",
       "6+  0.867338                0.883975"
      ]
     },
     "execution_count": 17,
     "metadata": {},
     "output_type": "execute_result"
    }
   ],
   "source": [
    "freq_accuracies_df"
   ]
  },
  {
   "cell_type": "code",
   "execution_count": 18,
   "metadata": {},
   "outputs": [
    {
     "data": {
      "text/plain": [
       "<Figure size 432x288 with 0 Axes>"
      ]
     },
     "metadata": {},
     "output_type": "display_data"
    },
    {
     "data": {
      "image/png": "[encoded data removed]",
      "text/plain": [
       "<Figure size 432x288 with 1 Axes>"
      ]
     },
     "metadata": {
      "needs_background": "light"
     },
     "output_type": "display_data"
    }
   ],
   "source": [
    "plt.figure()\n",
    "ax = freq_accuracies_df.plot.bar(rot=0)\n",
    "ax.grid(which='major', axis='y', linewidth=0.5)\n",
    "ax.set_axisbelow(True)\n",
    "ax.set_xlabel('Frequency of answer entities train data')\n",
    "ax.set_ylabel('Accuracy')\n",
    "ax.legend(fontsize=12)\n",
    "plt.savefig('images/accuracy_freq.pdf', bbox_inches='tight')"
   ]
  },
  {
   "cell_type": "code",
   "execution_count": 19,
   "metadata": {},
   "outputs": [],
   "source": [
    "QUIZ_SENTENCE_PREDICTION_PATH = 'work/quiz/bert-base/prediction_test_sentence.json'\n",
    "WIKI_QUIZ_SENTENCE_PREDICTION_PATH = 'work/wiki_quiz/bert-base/prediction_test_sentence.json'"
   ]
  },
  {
   "cell_type": "code",
   "execution_count": 20,
   "metadata": {},
   "outputs": [],
   "source": [
    "_, quiz_sid_accuracies = make_accuracy_bins(QUIZ_SENTENCE_PREDICTION_PATH)\n",
    "_, wiki_quiz_sid_accuracies = make_accuracy_bins(WIKI_QUIZ_SENTENCE_PREDICTION_PATH)"
   ]
  },
  {
   "cell_type": "code",
   "execution_count": 21,
   "metadata": {},
   "outputs": [],
   "source": [
    "sid_labels = ['1', '2', '3', '4', '5', '6', '7+']\n",
    "sid_accuracies_dict = {\n",
    "    'Qanta': [quiz_sid_accuracies[label] for label in sid_labels],\n",
    "    r'Wiki$\\rightarrow$Qanta': [wiki_quiz_sid_accuracies[label] for label in sid_labels]\n",
    "}\n",
    "sid_accuracies_df = pd.DataFrame(data=sid_accuracies_dict, index=sid_labels)"
   ]
  },
  {
   "cell_type": "code",
   "execution_count": 22,
   "metadata": {},
   "outputs": [
    {
     "data": {
      "text/html": [
       "<div>\n",
       "<style scoped>\n",
       "    .dataframe tbody tr th:only-of-type {\n",
       "        vertical-align: middle;\n",
       "    }\n",
       "\n",
       "    .dataframe tbody tr th {\n",
       "        vertical-align: top;\n",
       "    }\n",
       "\n",
       "    .dataframe thead th {\n",
       "        text-align: right;\n",
       "    }\n",
       "</style>\n",
       "<table border=\"1\" class=\"dataframe\">\n",
       "  <thead>\n",
       "    <tr style=\"text-align: right;\">\n",
       "      <th></th>\n",
       "      <th>Qanta</th>\n",
       "      <th>Wiki$\\rightarrow$Qanta</th>\n",
       "    </tr>\n",
       "  </thead>\n",
       "  <tbody>\n",
       "    <tr>\n",
       "      <th>1</th>\n",
       "      <td>0.129142</td>\n",
       "      <td>0.149366</td>\n",
       "    </tr>\n",
       "    <tr>\n",
       "      <th>2</th>\n",
       "      <td>0.191277</td>\n",
       "      <td>0.230994</td>\n",
       "    </tr>\n",
       "    <tr>\n",
       "      <th>3</th>\n",
       "      <td>0.269737</td>\n",
       "      <td>0.315302</td>\n",
       "    </tr>\n",
       "    <tr>\n",
       "      <th>4</th>\n",
       "      <td>0.350256</td>\n",
       "      <td>0.398584</td>\n",
       "    </tr>\n",
       "    <tr>\n",
       "      <th>5</th>\n",
       "      <td>0.440429</td>\n",
       "      <td>0.480060</td>\n",
       "    </tr>\n",
       "    <tr>\n",
       "      <th>6</th>\n",
       "      <td>0.482707</td>\n",
       "      <td>0.532200</td>\n",
       "    </tr>\n",
       "    <tr>\n",
       "      <th>7+</th>\n",
       "      <td>0.473140</td>\n",
       "      <td>0.526171</td>\n",
       "    </tr>\n",
       "  </tbody>\n",
       "</table>\n",
       "</div>"
      ],
      "text/plain": [
       "       Qanta  Wiki$\\rightarrow$Qanta\n",
       "1   0.129142                0.149366\n",
       "2   0.191277                0.230994\n",
       "3   0.269737                0.315302\n",
       "4   0.350256                0.398584\n",
       "5   0.440429                0.480060\n",
       "6   0.482707                0.532200\n",
       "7+  0.473140                0.526171"
      ]
     },
     "execution_count": 22,
     "metadata": {},
     "output_type": "execute_result"
    }
   ],
   "source": [
    "sid_accuracies_df"
   ]
  },
  {
   "cell_type": "code",
   "execution_count": 23,
   "metadata": {},
   "outputs": [
    {
     "data": {
      "text/plain": [
       "<Figure size 432x288 with 0 Axes>"
      ]
     },
     "metadata": {},
     "output_type": "display_data"
    },
    {
     "data": {
      "image/png": "[encoded data removed]",
      "text/plain": [
       "<Figure size 432x288 with 1 Axes>"
      ]
     },
     "metadata": {
      "needs_background": "light"
     },
     "output_type": "display_data"
    }
   ],
   "source": [
    "plt.figure()\n",
    "ax = sid_accuracies_df.plot.bar(rot=0)\n",
    "ax.grid(which='major', axis='y', linewidth=0.5)\n",
    "ax.set_axisbelow(True)\n",
    "ax.set_xlabel('Question sentence index')\n",
    "ax.set_ylabel('Accuracy')\n",
    "ax.legend(fontsize=12)\n",
    "plt.savefig('images/accuracy_sid.pdf', bbox_inches='tight')"
   ]
  },
  {
   "cell_type": "code",
   "execution_count": null,
   "metadata": {},
   "outputs": [],
   "source": []
  }
 ],
 "metadata": {
  "kernelspec": {
   "display_name": "Python 3",
   "language": "python",
   "name": "python3"
  },
  "language_info": {
   "codemirror_mode": {
    "name": "ipython",
    "version": 3
   },
   "file_extension": ".py",
   "mimetype": "text/x-python",
   "name": "python",
   "nbconvert_exporter": "python",
   "pygments_lexer": "ipython3",
   "version": "3.7.6"
  }
 },
 "nbformat": 4,
 "nbformat_minor": 4
}
