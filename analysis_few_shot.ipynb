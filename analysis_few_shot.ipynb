{
 "cells": [
  {
   "cell_type": "code",
   "execution_count": 1,
   "metadata": {},
   "outputs": [],
   "source": [
    "import json\n",
    "from collections import Counter, defaultdict"
   ]
  },
  {
   "cell_type": "code",
   "execution_count": 2,
   "metadata": {},
   "outputs": [],
   "source": [
    "import numpy as np\n",
    "import pandas as pd\n",
    "import plotly.express as px\n",
    "import matplotlib.pyplot as plt\n",
    "from matplotlib.ticker import ScalarFormatter"
   ]
  },
  {
   "cell_type": "code",
   "execution_count": 3,
   "metadata": {},
   "outputs": [],
   "source": [
    "plt.rcParams[\"font.size\"] = 14"
   ]
  },
  {
   "cell_type": "code",
   "execution_count": 4,
   "metadata": {},
   "outputs": [],
   "source": [
    "TRAIN_PATH = \"/Users/m-suzuki/data/qanta/2018/qanta.train.2018.04.18.json\"\n",
    "DEV_PATH = \"/Users/m-suzuki/data/qanta/2018/qanta.dev.2018.04.18.json\"\n",
    "TEST_PATH = \"/Users/m-suzuki/data/qanta/2018/qanta.test.2018.04.18.json\""
   ]
  },
  {
   "cell_type": "code",
   "execution_count": 5,
   "metadata": {},
   "outputs": [],
   "source": [
    "with open(TRAIN_PATH) as f:\n",
    "    train = pd.DataFrame.from_dict(json.load(f)['questions'])"
   ]
  },
  {
   "cell_type": "code",
   "execution_count": 6,
   "metadata": {},
   "outputs": [],
   "source": [
    "with open(DEV_PATH) as f:\n",
    "    dev = pd.DataFrame.from_dict(json.load(f)['questions'])"
   ]
  },
  {
   "cell_type": "code",
   "execution_count": 7,
   "metadata": {},
   "outputs": [
    {
     "data": {
      "text/html": [
       "<div>\n",
       "<style scoped>\n",
       "    .dataframe tbody tr th:only-of-type {\n",
       "        vertical-align: middle;\n",
       "    }\n",
       "\n",
       "    .dataframe tbody tr th {\n",
       "        vertical-align: top;\n",
       "    }\n",
       "\n",
       "    .dataframe thead th {\n",
       "        text-align: right;\n",
       "    }\n",
       "</style>\n",
       "<table border=\"1\" class=\"dataframe\">\n",
       "  <thead>\n",
       "    <tr style=\"text-align: right;\">\n",
       "      <th></th>\n",
       "      <th>text</th>\n",
       "      <th>answer</th>\n",
       "      <th>page</th>\n",
       "      <th>category</th>\n",
       "      <th>subcategory</th>\n",
       "      <th>tournament</th>\n",
       "      <th>difficulty</th>\n",
       "      <th>year</th>\n",
       "      <th>proto_id</th>\n",
       "      <th>qdb_id</th>\n",
       "      <th>dataset</th>\n",
       "      <th>qanta_id</th>\n",
       "      <th>tokenizations</th>\n",
       "      <th>first_sentence</th>\n",
       "      <th>gameplay</th>\n",
       "      <th>fold</th>\n",
       "    </tr>\n",
       "  </thead>\n",
       "  <tbody>\n",
       "    <tr>\n",
       "      <th>0</th>\n",
       "      <td>After this character relates a story about how...</td>\n",
       "      <td>Queequeg</td>\n",
       "      <td>Queequeg</td>\n",
       "      <td>Literature</td>\n",
       "      <td>American</td>\n",
       "      <td>ACF Winter</td>\n",
       "      <td>College</td>\n",
       "      <td>2010</td>\n",
       "      <td>5476990eea23cca905506d51</td>\n",
       "      <td>NaN</td>\n",
       "      <td>protobowl</td>\n",
       "      <td>0</td>\n",
       "      <td>[[0, 192], [193, 398], [399, 506], [507, 693],...</td>\n",
       "      <td>After this character relates a story about how...</td>\n",
       "      <td>True</td>\n",
       "      <td>buzztrain</td>\n",
       "    </tr>\n",
       "    <tr>\n",
       "      <th>1</th>\n",
       "      <td>The oldest document written in this language i...</td>\n",
       "      <td>Daco-Romanian [also accept limba română]</td>\n",
       "      <td>Romanian_language</td>\n",
       "      <td>Social Science</td>\n",
       "      <td>Anthropology</td>\n",
       "      <td>ACF Winter</td>\n",
       "      <td>College</td>\n",
       "      <td>2010</td>\n",
       "      <td>5476990eea23cca905506d52</td>\n",
       "      <td>NaN</td>\n",
       "      <td>protobowl</td>\n",
       "      <td>1</td>\n",
       "      <td>[[0, 184], [185, 305], [306, 426], [426, 786]]</td>\n",
       "      <td>The oldest document written in this language i...</td>\n",
       "      <td>True</td>\n",
       "      <td>guesstrain</td>\n",
       "    </tr>\n",
       "    <tr>\n",
       "      <th>2</th>\n",
       "      <td>This state's largest city endured an 1855 Rum ...</td>\n",
       "      <td>Maine</td>\n",
       "      <td>Maine</td>\n",
       "      <td>History</td>\n",
       "      <td>American</td>\n",
       "      <td>ACF Winter</td>\n",
       "      <td>College</td>\n",
       "      <td>2010</td>\n",
       "      <td>5476990eea23cca905506d53</td>\n",
       "      <td>NaN</td>\n",
       "      <td>protobowl</td>\n",
       "      <td>2</td>\n",
       "      <td>[[0, 134], [135, 262], [263, 398], [399, 518],...</td>\n",
       "      <td>This state's largest city endured an 1855 Rum ...</td>\n",
       "      <td>True</td>\n",
       "      <td>guesstrain</td>\n",
       "    </tr>\n",
       "    <tr>\n",
       "      <th>3</th>\n",
       "      <td>In one work, this man provides definitions for...</td>\n",
       "      <td>Charles Sanders Peirce</td>\n",
       "      <td>Charles_Sanders_Peirce</td>\n",
       "      <td>Social Science</td>\n",
       "      <td>Philosophy</td>\n",
       "      <td>ACF Winter</td>\n",
       "      <td>College</td>\n",
       "      <td>2010</td>\n",
       "      <td>5476990eea23cca905506d54</td>\n",
       "      <td>NaN</td>\n",
       "      <td>protobowl</td>\n",
       "      <td>3</td>\n",
       "      <td>[[0, 127], [128, 251], [252, 343], [344, 525],...</td>\n",
       "      <td>In one work, this man provides definitions for...</td>\n",
       "      <td>True</td>\n",
       "      <td>guesstrain</td>\n",
       "    </tr>\n",
       "    <tr>\n",
       "      <th>4</th>\n",
       "      <td>One family in this work flees France after res...</td>\n",
       "      <td>Frankenstein, or the Modern Prometheus</td>\n",
       "      <td>Frankenstein</td>\n",
       "      <td>Literature</td>\n",
       "      <td>European</td>\n",
       "      <td>ACF Winter</td>\n",
       "      <td>College</td>\n",
       "      <td>2010</td>\n",
       "      <td>5476990eea23cca905506d55</td>\n",
       "      <td>NaN</td>\n",
       "      <td>protobowl</td>\n",
       "      <td>4</td>\n",
       "      <td>[[0, 168], [169, 351], [352, 587], [588, 673],...</td>\n",
       "      <td>One family in this work flees France after res...</td>\n",
       "      <td>True</td>\n",
       "      <td>guesstrain</td>\n",
       "    </tr>\n",
       "  </tbody>\n",
       "</table>\n",
       "</div>"
      ],
      "text/plain": [
       "                                                text  \\\n",
       "0  After this character relates a story about how...   \n",
       "1  The oldest document written in this language i...   \n",
       "2  This state's largest city endured an 1855 Rum ...   \n",
       "3  In one work, this man provides definitions for...   \n",
       "4  One family in this work flees France after res...   \n",
       "\n",
       "                                     answer                    page  \\\n",
       "0                                  Queequeg                Queequeg   \n",
       "1  Daco-Romanian [also accept limba română]       Romanian_language   \n",
       "2                                     Maine                   Maine   \n",
       "3                    Charles Sanders Peirce  Charles_Sanders_Peirce   \n",
       "4    Frankenstein, or the Modern Prometheus            Frankenstein   \n",
       "\n",
       "         category   subcategory  tournament difficulty  year  \\\n",
       "0      Literature      American  ACF Winter    College  2010   \n",
       "1  Social Science  Anthropology  ACF Winter    College  2010   \n",
       "2         History      American  ACF Winter    College  2010   \n",
       "3  Social Science    Philosophy  ACF Winter    College  2010   \n",
       "4      Literature      European  ACF Winter    College  2010   \n",
       "\n",
       "                   proto_id  qdb_id    dataset  qanta_id  \\\n",
       "0  5476990eea23cca905506d51     NaN  protobowl         0   \n",
       "1  5476990eea23cca905506d52     NaN  protobowl         1   \n",
       "2  5476990eea23cca905506d53     NaN  protobowl         2   \n",
       "3  5476990eea23cca905506d54     NaN  protobowl         3   \n",
       "4  5476990eea23cca905506d55     NaN  protobowl         4   \n",
       "\n",
       "                                       tokenizations  \\\n",
       "0  [[0, 192], [193, 398], [399, 506], [507, 693],...   \n",
       "1     [[0, 184], [185, 305], [306, 426], [426, 786]]   \n",
       "2  [[0, 134], [135, 262], [263, 398], [399, 518],...   \n",
       "3  [[0, 127], [128, 251], [252, 343], [344, 525],...   \n",
       "4  [[0, 168], [169, 351], [352, 587], [588, 673],...   \n",
       "\n",
       "                                      first_sentence  gameplay        fold  \n",
       "0  After this character relates a story about how...      True   buzztrain  \n",
       "1  The oldest document written in this language i...      True  guesstrain  \n",
       "2  This state's largest city endured an 1855 Rum ...      True  guesstrain  \n",
       "3  In one work, this man provides definitions for...      True  guesstrain  \n",
       "4  One family in this work flees France after res...      True  guesstrain  "
      ]
     },
     "execution_count": 7,
     "metadata": {},
     "output_type": "execute_result"
    }
   ],
   "source": [
    "train.head()"
   ]
  },
  {
   "cell_type": "code",
   "execution_count": 8,
   "metadata": {},
   "outputs": [],
   "source": [
    "train_counts = train['page'].value_counts()"
   ]
  },
  {
   "cell_type": "code",
   "execution_count": 9,
   "metadata": {},
   "outputs": [
    {
     "data": {
      "text/plain": [
       "Japan              99\n",
       "China              97\n",
       "Australia          97\n",
       "Spain              89\n",
       "Brazil             87\n",
       "                   ..\n",
       "The_Eolian_Harp     1\n",
       "Papier-mâché        1\n",
       "Olden_Polynice      1\n",
       "Tyrosine_kinase     1\n",
       "Elizabeth_Dole      1\n",
       "Name: page, Length: 25969, dtype: int64"
      ]
     },
     "execution_count": 9,
     "metadata": {},
     "output_type": "execute_result"
    }
   ],
   "source": [
    "train_counts"
   ]
  },
  {
   "cell_type": "code",
   "execution_count": 10,
   "metadata": {},
   "outputs": [
    {
     "data": {
      "image/png": "[encoded data removed]",
      "text/plain": [
       "<Figure size 432x288 with 1 Axes>"
      ]
     },
     "metadata": {
      "needs_background": "light"
     },
     "output_type": "display_data"
    }
   ],
   "source": [
    "plt.figure()\n",
    "ax = train_counts.plot.bar(width=100.0, rot=0)\n",
    "ax.set_xticks(np.arange(0,len(train_counts),5000))\n",
    "ax.set_xticklabels(np.arange(0,len(train_counts),5000))\n",
    "ax.grid(which='major', linewidth=0.5)\n",
    "ax.set_axisbelow(True)\n",
    "ax.set_xlabel('Entities (sorted in descending order of frequency in train data)')\n",
    "ax.set_ylabel('Frequency in train data')\n",
    "ax.set_xlim(-1000, len(train_counts)+1000)\n",
    "plt.savefig('/Users/m-suzuki/Desktop/train_freq.pdf', bbox_inches='tight')"
   ]
  },
  {
   "cell_type": "code",
   "execution_count": 11,
   "metadata": {},
   "outputs": [
    {
     "name": "stdout",
     "output_type": "stream",
     "text": [
      "4104\n",
      "648\n",
      "0.8421052631578947\n"
     ]
    }
   ],
   "source": [
    "num_unanswerable = 0\n",
    "with open(TEST_PATH) as f:\n",
    "    questions = json.load(f)['questions']\n",
    "\n",
    "print(len(questions))\n",
    "    \n",
    "for q in questions:\n",
    "    entity = q['page']\n",
    "    if entity not in train_counts or train_counts[entity] == 0:\n",
    "        num_unanswerable += 1\n",
    "    \n",
    "print(num_unanswerable)\n",
    "print(1 - num_unanswerable / len(questions))"
   ]
  },
  {
   "cell_type": "code",
   "execution_count": 12,
   "metadata": {},
   "outputs": [],
   "source": [
    "XLNET_QUIZ_PREDICTION_PATH = 'work/quiz-ep10/xlnet-base/prediction_test.json'\n",
    "XLNET_WIKI_QUIZ_PREDICTION_PATH = 'work/wiki-ep5_quiz-ep10/xlnet-base/prediction_test.json'"
   ]
  },
  {
   "cell_type": "code",
   "execution_count": 13,
   "metadata": {},
   "outputs": [],
   "source": [
    "def make_accuracy_bins(fpath):\n",
    "    accuracies_bins = defaultdict(list)\n",
    "    with open(fpath) as f:\n",
    "        for line in f:\n",
    "            pred_data = json.loads(line)\n",
    "            pred_answer = pred_data['top1_entity']\n",
    "            correct_answer = pred_data['metadata']['entity']\n",
    "            accuracy = int(pred_answer == correct_answer)\n",
    "\n",
    "            if correct_answer in train_counts:\n",
    "                frequency = train_counts[correct_answer]\n",
    "            else:\n",
    "                frequency = 0\n",
    "                \n",
    "            if frequency >= 6:\n",
    "                frequency_label = '6+'\n",
    "            else:\n",
    "                frequency_label = str(frequency)\n",
    "\n",
    "            accuracies_bins[frequency_label].append(accuracy)\n",
    "    \n",
    "    accuracy_bins = defaultdict(float)\n",
    "    for frequency_label in ['0', '1', '2', '3', '4', '5', '6+']:\n",
    "        if frequency_label in accuracies_bins:\n",
    "            accuracies = accuracies_bins[frequency_label]\n",
    "            count = len(accuracies)\n",
    "            assert count > 0\n",
    "            accuracy = sum(accuracies) / count\n",
    "            accuracy_bins[frequency_label] = accuracy\n",
    "            \n",
    "    return accuracy_bins"
   ]
  },
  {
   "cell_type": "code",
   "execution_count": 14,
   "metadata": {},
   "outputs": [],
   "source": [
    "xlnet_quiz_accuracy_bins = make_accuracy_bins(XLNET_QUIZ_PREDICTION_PATH)\n",
    "xlnet_wiki_quiz_accuracy_bins = make_accuracy_bins(XLNET_WIKI_QUIZ_PREDICTION_PATH)"
   ]
  },
  {
   "cell_type": "code",
   "execution_count": 15,
   "metadata": {},
   "outputs": [
    {
     "data": {
      "text/plain": [
       "defaultdict(float,\n",
       "            {'0': 0.0,\n",
       "             '1': 0.3581267217630854,\n",
       "             '2': 0.5919117647058824,\n",
       "             '3': 0.6121495327102804,\n",
       "             '4': 0.7252747252747253,\n",
       "             '5': 0.7375886524822695,\n",
       "             '6+': 0.8655866900175131})"
      ]
     },
     "execution_count": 15,
     "metadata": {},
     "output_type": "execute_result"
    }
   ],
   "source": [
    "xlnet_quiz_accuracy_bins"
   ]
  },
  {
   "cell_type": "code",
   "execution_count": 16,
   "metadata": {},
   "outputs": [],
   "source": [
    "frequency_labels = ['1', '2', '3', '4', '5', '6+']\n",
    "xlnet_accuracies_dict = {'Qanta': [xlnet_quiz_accuracy_bins[label] for label in frequency_labels],\n",
    "                         r'Wiki$\\rightarrow$Qanta': [xlnet_wiki_quiz_accuracy_bins[label] for label in frequency_labels]}"
   ]
  },
  {
   "cell_type": "code",
   "execution_count": 17,
   "metadata": {},
   "outputs": [
    {
     "data": {
      "text/plain": [
       "{'Qanta': [0.3581267217630854,\n",
       "  0.5919117647058824,\n",
       "  0.6121495327102804,\n",
       "  0.7252747252747253,\n",
       "  0.7375886524822695,\n",
       "  0.8655866900175131],\n",
       " 'Wiki$\\\\rightarrow$Qanta': [0.48760330578512395,\n",
       "  0.6507352941176471,\n",
       "  0.7009345794392523,\n",
       "  0.7857142857142857,\n",
       "  0.8156028368794326,\n",
       "  0.8804728546409807]}"
      ]
     },
     "execution_count": 17,
     "metadata": {},
     "output_type": "execute_result"
    }
   ],
   "source": [
    "xlnet_accuracies_dict"
   ]
  },
  {
   "cell_type": "code",
   "execution_count": 18,
   "metadata": {},
   "outputs": [],
   "source": [
    "xlnet_accuracies = pd.DataFrame(data=xlnet_accuracies_dict, index=frequency_labels)"
   ]
  },
  {
   "cell_type": "code",
   "execution_count": 19,
   "metadata": {},
   "outputs": [
    {
     "data": {
      "text/html": [
       "<div>\n",
       "<style scoped>\n",
       "    .dataframe tbody tr th:only-of-type {\n",
       "        vertical-align: middle;\n",
       "    }\n",
       "\n",
       "    .dataframe tbody tr th {\n",
       "        vertical-align: top;\n",
       "    }\n",
       "\n",
       "    .dataframe thead th {\n",
       "        text-align: right;\n",
       "    }\n",
       "</style>\n",
       "<table border=\"1\" class=\"dataframe\">\n",
       "  <thead>\n",
       "    <tr style=\"text-align: right;\">\n",
       "      <th></th>\n",
       "      <th>Qanta</th>\n",
       "      <th>Wiki$\\rightarrow$Qanta</th>\n",
       "    </tr>\n",
       "  </thead>\n",
       "  <tbody>\n",
       "    <tr>\n",
       "      <th>1</th>\n",
       "      <td>0.358127</td>\n",
       "      <td>0.487603</td>\n",
       "    </tr>\n",
       "    <tr>\n",
       "      <th>2</th>\n",
       "      <td>0.591912</td>\n",
       "      <td>0.650735</td>\n",
       "    </tr>\n",
       "    <tr>\n",
       "      <th>3</th>\n",
       "      <td>0.612150</td>\n",
       "      <td>0.700935</td>\n",
       "    </tr>\n",
       "    <tr>\n",
       "      <th>4</th>\n",
       "      <td>0.725275</td>\n",
       "      <td>0.785714</td>\n",
       "    </tr>\n",
       "    <tr>\n",
       "      <th>5</th>\n",
       "      <td>0.737589</td>\n",
       "      <td>0.815603</td>\n",
       "    </tr>\n",
       "    <tr>\n",
       "      <th>6+</th>\n",
       "      <td>0.865587</td>\n",
       "      <td>0.880473</td>\n",
       "    </tr>\n",
       "  </tbody>\n",
       "</table>\n",
       "</div>"
      ],
      "text/plain": [
       "       Qanta  Wiki$\\rightarrow$Qanta\n",
       "1   0.358127                0.487603\n",
       "2   0.591912                0.650735\n",
       "3   0.612150                0.700935\n",
       "4   0.725275                0.785714\n",
       "5   0.737589                0.815603\n",
       "6+  0.865587                0.880473"
      ]
     },
     "execution_count": 19,
     "metadata": {},
     "output_type": "execute_result"
    }
   ],
   "source": [
    "xlnet_accuracies"
   ]
  },
  {
   "cell_type": "code",
   "execution_count": 20,
   "metadata": {},
   "outputs": [
    {
     "data": {
      "text/plain": [
       "<Figure size 432x288 with 0 Axes>"
      ]
     },
     "metadata": {},
     "output_type": "display_data"
    },
    {
     "data": {
      "image/png": "[encoded data removed]",
      "text/plain": [
       "<Figure size 432x288 with 1 Axes>"
      ]
     },
     "metadata": {
      "needs_background": "light"
     },
     "output_type": "display_data"
    }
   ],
   "source": [
    "plt.figure()\n",
    "ax = xlnet_accuracies.plot.bar(rot=0)\n",
    "ax.grid(which='major', axis='y', linewidth=0.5)\n",
    "ax.set_axisbelow(True)\n",
    "ax.set_xlabel('Frequency of answer entities train data')\n",
    "ax.set_ylabel('Accuracy')\n",
    "ax.legend(fontsize=12)\n",
    "plt.savefig('/Users/m-suzuki/Desktop/accuracy_freq.pdf', bbox_inches='tight')"
   ]
  },
  {
   "cell_type": "code",
   "execution_count": null,
   "metadata": {},
   "outputs": [],
   "source": []
  }
 ],
 "metadata": {
  "kernelspec": {
   "display_name": "Python 3",
   "language": "python",
   "name": "python3"
  },
  "language_info": {
   "codemirror_mode": {
    "name": "ipython",
    "version": 3
   },
   "file_extension": ".py",
   "mimetype": "text/x-python",
   "name": "python",
   "nbconvert_exporter": "python",
   "pygments_lexer": "ipython3",
   "version": "3.7.2"
  }
 },
 "nbformat": 4,
 "nbformat_minor": 4
}
